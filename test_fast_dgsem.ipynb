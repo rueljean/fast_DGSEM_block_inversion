{
 "cells": [
  {
   "cell_type": "markdown",
   "id": "ed7d25ef-58e7-4898-a23d-7466e8a4d46d",
   "metadata": {},
   "source": [
    "# Fast DGSEM block inversion\n",
    "\n",
    "In this notebook, we test the methods analytical formulations for DGSEM-matrix inversion against classical `numpy` tools. We also time them to see which is the most efficient one.\n",
    "\n",
    "To test for exactness, we relying on a classical Frobenius norm of the differnce between the proposed analytical formulae and the reference one.\n",
    "\n",
    "The performances will be measured with `jupyter` `%%timeit` magic (see the header of the related cells). To compute fair statistics, we use 100 runs (see option `-r 100`) and the default values for loops (10'000): hence, running the notebook might take some time."
   ]
  },
  {
   "cell_type": "code",
   "execution_count": 1,
   "id": "07b6b385-a346-4177-801c-8a85d686cb1a",
   "metadata": {
    "tags": []
   },
   "outputs": [],
   "source": [
    "import numpy as np\n",
    "\n",
    "import fast_DGSEM_block_inversion as f_dgsem"
   ]
  },
  {
   "cell_type": "code",
   "execution_count": 2,
   "id": "36f1ff3e-96be-4dff-a2ed-62ce97be94c2",
   "metadata": {
    "tags": []
   },
   "outputs": [],
   "source": [
    "# Polynomial order\n",
    "p = 2  # Accepted: 1:5 included\n",
    "\n",
    "# Celerity*time step over spatial grid size\n",
    "lambda_x, lambda_y = 1.0, 1.0"
   ]
  },
  {
   "cell_type": "markdown",
   "id": "a208297f-46d6-4def-baf3-00afff61106a",
   "metadata": {},
   "source": [
    "## Exactness"
   ]
  },
  {
   "cell_type": "code",
   "execution_count": 3,
   "id": "8cb42f4a-1331-446b-b3a5-e50b38b1f216",
   "metadata": {
    "tags": []
   },
   "outputs": [
    {
     "name": "stdout",
     "output_type": "stream",
     "text": [
      "Verification of L eigenvalues (difference inf. norm between the two methods): 2.7599706730399138e-15\n",
      "\n"
     ]
    }
   ],
   "source": [
    "_ = f_dgsem.compare_eigenvalues_computation(p)"
   ]
  },
  {
   "cell_type": "code",
   "execution_count": 4,
   "id": "acc1d7c5-d896-47a7-b8ba-cd8fb96e6f4d",
   "metadata": {
    "tags": []
   },
   "outputs": [
    {
     "name": "stdout",
     "output_type": "stream",
     "text": [
      "Verification of diag. block inv. (difference inf. norm between the two methods): 8.063148131178543e-15\n",
      "\n"
     ]
    }
   ],
   "source": [
    "_ = f_dgsem.compare_2D_inversion(p, lambda_x, lambda_y)"
   ]
  },
  {
   "cell_type": "code",
   "execution_count": 5,
   "id": "ecf555ac-278d-4eaa-b22f-58e3d2557afb",
   "metadata": {
    "tags": []
   },
   "outputs": [
    {
     "name": "stdout",
     "output_type": "stream",
     "text": [
      "Verification of diag. block inv. with graph visc. (difference inf. norm between the two methods): 2.287689155037822e-16\n"
     ]
    }
   ],
   "source": [
    "_ = f_dgsem.compare_2D_inversion_viscosity(p, lambda_x, lambda_y)"
   ]
  },
  {
   "cell_type": "markdown",
   "id": "476bcb98-ae89-4259-bd4d-b51af0344aef",
   "metadata": {},
   "source": [
    "## Performances\n",
    "\n",
    "Setting up needed variables"
   ]
  },
  {
   "cell_type": "code",
   "execution_count": 6,
   "id": "b9a2e277-288b-4152-aa7b-1da28f25acd9",
   "metadata": {
    "tags": []
   },
   "outputs": [],
   "source": [
    "lobatto_weights = f_dgsem.LOBATTO_WEIGHTS_BY_ORDER[p]\n",
    "\n",
    "# Derivative matrix\n",
    "D = f_dgsem.D_matrix(p)\n",
    "# Mass matrix\n",
    "M = 0.5 * np.diag(lobatto_weights)"
   ]
  },
  {
   "cell_type": "markdown",
   "id": "e14f06d6-3fdd-4ffd-88ce-4e6b5a726043",
   "metadata": {},
   "source": [
    "### Eigenvalues\n",
    "\n",
    "Reference `numpy` performances:"
   ]
  },
  {
   "cell_type": "code",
   "execution_count": 7,
   "id": "3044d71d-07c3-460e-a314-b0317537de8f",
   "metadata": {
    "tags": []
   },
   "outputs": [
    {
     "name": "stdout",
     "output_type": "stream",
     "text": [
      "32.1 µs ± 1.74 µs per loop (mean ± std. dev. of 100 runs, 10,000 loops each)\n"
     ]
    }
   ],
   "source": [
    "%%timeit -r 100\n",
    "f_dgsem.eigen_L_numpy(D)"
   ]
  },
  {
   "cell_type": "markdown",
   "id": "f0b8724c-4cd5-42dc-bcaf-7ad99a3b56e3",
   "metadata": {},
   "source": [
    "Proposed formula performances:"
   ]
  },
  {
   "cell_type": "code",
   "execution_count": 8,
   "id": "f7f865a0-ec69-4373-b14a-6cb00ea4f1aa",
   "metadata": {
    "tags": []
   },
   "outputs": [
    {
     "name": "stdout",
     "output_type": "stream",
     "text": [
      "71.7 µs ± 542 ns per loop (mean ± std. dev. of 100 runs, 10,000 loops each)\n"
     ]
    }
   ],
   "source": [
    "%%timeit -r 100\n",
    "f_dgsem.eigen_L_analytical(D)"
   ]
  },
  {
   "cell_type": "markdown",
   "id": "a018db34-8b05-4dda-8dd2-3c724cad5a5e",
   "metadata": {},
   "source": [
    "### 2D matrix inversion\n",
    "\n",
    "Reference `numpy` performances:"
   ]
  },
  {
   "cell_type": "code",
   "execution_count": 9,
   "id": "417bb140-d139-4274-a8b0-4aeabd488c13",
   "metadata": {
    "tags": []
   },
   "outputs": [
    {
     "name": "stdout",
     "output_type": "stream",
     "text": [
      "263 µs ± 22.3 µs per loop (mean ± std. dev. of 100 runs, 1,000 loops each)\n"
     ]
    }
   ],
   "source": [
    "%%timeit -r 100\n",
    "f_dgsem.L2d_inversion_numpy(D, M, lambda_x, lambda_y)"
   ]
  },
  {
   "cell_type": "markdown",
   "id": "509c6f1a-43b5-4707-b72d-ef92205cb351",
   "metadata": {},
   "source": [
    "Proposed formula performances:"
   ]
  },
  {
   "cell_type": "code",
   "execution_count": 10,
   "id": "86eef432-f044-42f7-a814-9e42a6a53e91",
   "metadata": {
    "tags": []
   },
   "outputs": [
    {
     "name": "stdout",
     "output_type": "stream",
     "text": [
      "315 µs ± 16.3 µs per loop (mean ± std. dev. of 100 runs, 1,000 loops each)\n"
     ]
    }
   ],
   "source": [
    "%%timeit -r 100\n",
    "f_dgsem.L2d_inversion_analytical(D, M, lambda_x, lambda_y)"
   ]
  },
  {
   "cell_type": "markdown",
   "id": "afc7dc7e-102e-400a-a635-f24a301f06de",
   "metadata": {},
   "source": [
    "### 2D matrix with graph viscosity inversion\n",
    "\n",
    "Reference `numpy` performances:"
   ]
  },
  {
   "cell_type": "code",
   "execution_count": 11,
   "id": "beb54683-ea0c-467d-9abc-16dc3940d982",
   "metadata": {
    "tags": []
   },
   "outputs": [
    {
     "name": "stdout",
     "output_type": "stream",
     "text": [
      "598 µs ± 55.4 µs per loop (mean ± std. dev. of 100 runs, 1,000 loops each)\n"
     ]
    }
   ],
   "source": [
    "%%timeit -r 100\n",
    "f_dgsem.L2d_inversion_viscosity_numpy(D, M, lambda_x, lambda_y)"
   ]
  },
  {
   "cell_type": "markdown",
   "id": "92e0dd26-a5ab-43e3-b072-17318ffc298d",
   "metadata": {},
   "source": [
    "Proposed formula performances:"
   ]
  },
  {
   "cell_type": "code",
   "execution_count": 12,
   "id": "5de545d2-e295-40da-b3aa-548adcb03093",
   "metadata": {
    "tags": []
   },
   "outputs": [
    {
     "name": "stdout",
     "output_type": "stream",
     "text": [
      "1.24 ms ± 133 µs per loop (mean ± std. dev. of 100 runs, 1,000 loops each)\n"
     ]
    }
   ],
   "source": [
    "%%timeit -r 100\n",
    "f_dgsem.L2d_inversion_viscosity_analytical(D, M, lambda_x, lambda_y)"
   ]
  }
 ],
 "metadata": {
  "kernelspec": {
   "display_name": "Python 3 (ipykernel)",
   "language": "python",
   "name": "python3"
  },
  "language_info": {
   "codemirror_mode": {
    "name": "ipython",
    "version": 3
   },
   "file_extension": ".py",
   "mimetype": "text/x-python",
   "name": "python",
   "nbconvert_exporter": "python",
   "pygments_lexer": "ipython3",
   "version": "3.10.8"
  }
 },
 "nbformat": 4,
 "nbformat_minor": 5
}
