{
 "cells": [
  {
   "cell_type": "markdown",
   "id": "ed7d25ef-58e7-4898-a23d-7466e8a4d46d",
   "metadata": {},
   "source": [
    "# Fast DGSEM block inversion\n",
    "\n",
    "In this notebook, we test the methods analytical formulations for DGSEM-matrix inversion against classical `numpy` tools. We also time them to see which is the most efficient one.\n",
    "\n",
    "To test for exactness, we relying on a classical Frobenius norm of the differnce between the proposed analytical formulae and the reference one.\n",
    "\n",
    "The performances will be measured with `jupyter`/`IPython` `[%]%timeit` magic (see the header of the related cells). To compute fair statistics, we use 20 runs (see option `-r 20`): hence, running the notebook might take some time."
   ]
  },
  {
   "cell_type": "code",
   "execution_count": 1,
   "id": "07b6b385-a346-4177-801c-8a85d686cb1a",
   "metadata": {
    "tags": []
   },
   "outputs": [],
   "source": [
    "import numpy as np\n",
    "\n",
    "import fast_DGSEM_block_inversion as f_dgsem"
   ]
  },
  {
   "cell_type": "code",
   "execution_count": 2,
   "id": "36f1ff3e-96be-4dff-a2ed-62ce97be94c2",
   "metadata": {
    "tags": []
   },
   "outputs": [],
   "source": [
    "# Polynomial order\n",
    "p = 2  # Accepted: 1:5 included\n",
    "\n",
    "# Celerity*time step over spatial grid size\n",
    "lambda_x, lambda_y = 1.0, 1.0"
   ]
  },
  {
   "cell_type": "markdown",
   "id": "a208297f-46d6-4def-baf3-00afff61106a",
   "metadata": {},
   "source": [
    "## Exactness"
   ]
  },
  {
   "cell_type": "code",
   "execution_count": 3,
   "id": "8cb42f4a-1331-446b-b3a5-e50b38b1f216",
   "metadata": {
    "tags": []
   },
   "outputs": [
    {
     "name": "stdout",
     "output_type": "stream",
     "text": [
      "Verification of L eigenvalues (difference inf. norm between the two methods): 2.7599706730399138e-15\n",
      "\n"
     ]
    }
   ],
   "source": [
    "_ = f_dgsem.compare_eigenvalues_computation(p)"
   ]
  },
  {
   "cell_type": "code",
   "execution_count": 4,
   "id": "acc1d7c5-d896-47a7-b8ba-cd8fb96e6f4d",
   "metadata": {
    "tags": []
   },
   "outputs": [
    {
     "name": "stdout",
     "output_type": "stream",
     "text": [
      "Verification of diag. block inv. (difference inf. norm between the two methods): 8.060194330240908e-15\n",
      "\n"
     ]
    }
   ],
   "source": [
    "_ = f_dgsem.compare_2D_inversion(p, lambda_x, lambda_y)"
   ]
  },
  {
   "cell_type": "code",
   "execution_count": 5,
   "id": "ecf555ac-278d-4eaa-b22f-58e3d2557afb",
   "metadata": {
    "tags": []
   },
   "outputs": [
    {
     "name": "stdout",
     "output_type": "stream",
     "text": [
      "Verification of diag. block inv. with graph visc. (difference inf. norm between the two methods): 2.8937189931735686e-16\n"
     ]
    }
   ],
   "source": [
    "_ = f_dgsem.compare_2D_inversion_viscosity(p, lambda_x, lambda_y)"
   ]
  },
  {
   "cell_type": "markdown",
   "id": "509c6f1a-43b5-4707-b72d-ef92205cb351",
   "metadata": {},
   "source": [
    "## Performances"
   ]
  },
  {
   "cell_type": "code",
   "execution_count": 6,
   "id": "a1efb0fc-5f13-487d-a22e-eb0cec445ce4",
   "metadata": {},
   "outputs": [
    {
     "name": "stdout",
     "output_type": "stream",
     "text": [
      "---------------- Assessing order p=1 ----------------\n",
      "* L2 inversion:\n",
      "  - numpy     : 95.7 µs ± 4.77 µs per loop (mean ± std. dev. of 20 runs, 10,000 loops each)\n",
      "  - Analytical: 12.4 µs ± 156 ns per loop (mean ± std. dev. of 20 runs, 100,000 loops each)\n",
      "* L2 inversion with graph viscosity:\n",
      "  - numpy     : 131 µs ± 2 µs per loop (mean ± std. dev. of 20 runs, 10,000 loops each)\n",
      "  - Analytical: 60.8 µs ± 1.18 µs per loop (mean ± std. dev. of 20 runs, 10,000 loops each)\n",
      "\n",
      "---------------- Assessing order p=2 ----------------\n",
      "* L2 inversion:\n",
      "  - numpy     : 264 µs ± 103 µs per loop (mean ± std. dev. of 20 runs, 1,000 loops each)\n",
      "  - Analytical: 15.3 µs ± 51.8 ns per loop (mean ± std. dev. of 20 runs, 100,000 loops each)\n",
      "* L2 inversion with graph viscosity:\n",
      "  - numpy     : 301 µs ± 40.7 µs per loop (mean ± std. dev. of 20 runs, 1,000 loops each)\n",
      "  - Analytical: 130 µs ± 24.5 µs per loop (mean ± std. dev. of 20 runs, 10,000 loops each)\n",
      "\n",
      "---------------- Assessing order p=3 ----------------\n",
      "* L2 inversion:\n",
      "  - numpy     : 292 µs ± 99.6 µs per loop (mean ± std. dev. of 20 runs, 1,000 loops each)\n",
      "  - Analytical: 19.2 µs ± 614 ns per loop (mean ± std. dev. of 20 runs, 10,000 loops each)\n",
      "* L2 inversion with graph viscosity:\n",
      "  - numpy     : 456 µs ± 198 µs per loop (mean ± std. dev. of 20 runs, 1,000 loops each)\n",
      "  - Analytical: 188 µs ± 16.3 µs per loop (mean ± std. dev. of 20 runs, 10,000 loops each)\n",
      "\n",
      "---------------- Assessing order p=4 ----------------\n",
      "* L2 inversion:\n",
      "  - numpy     : 344 µs ± 158 µs per loop (mean ± std. dev. of 20 runs, 1,000 loops each)\n",
      "  - Analytical: 24.8 µs ± 149 ns per loop (mean ± std. dev. of 20 runs, 10,000 loops each)\n",
      "* L2 inversion with graph viscosity:\n",
      "  - numpy     : 385 µs ± 52.1 µs per loop (mean ± std. dev. of 20 runs, 1,000 loops each)\n",
      "  - Analytical: 226 µs ± 52.5 µs per loop (mean ± std. dev. of 20 runs, 1,000 loops each)\n",
      "\n",
      "---------------- Assessing order p=5 ----------------\n",
      "* L2 inversion:\n",
      "  - numpy     : 402 µs ± 121 µs per loop (mean ± std. dev. of 20 runs, 1,000 loops each)\n",
      "  - Analytical: 91.6 µs ± 10.6 µs per loop (mean ± std. dev. of 20 runs, 10,000 loops each)\n",
      "* L2 inversion with graph viscosity:\n",
      "  - numpy     : 484 µs ± 78.9 µs per loop (mean ± std. dev. of 20 runs, 1,000 loops each)\n",
      "  - Analytical: 388 µs ± 134 µs per loop (mean ± std. dev. of 20 runs, 1,000 loops each)\n",
      "\n",
      "---------------- Assessing order p=6 ----------------\n",
      "* L2 inversion:\n",
      "  - numpy     : 550 µs ± 261 µs per loop (mean ± std. dev. of 20 runs, 1,000 loops each)\n",
      "  - Analytical: 111 µs ± 11 µs per loop (mean ± std. dev. of 20 runs, 10,000 loops each)\n",
      "* L2 inversion with graph viscosity:\n",
      "  - numpy     : 500 µs ± 43.1 µs per loop (mean ± std. dev. of 20 runs, 1,000 loops each)\n",
      "  - Analytical: 408 µs ± 81.3 µs per loop (mean ± std. dev. of 20 runs, 1,000 loops each)\n",
      "\n"
     ]
    }
   ],
   "source": [
    "perf_res = {}  # Store results\n",
    "for p, lobatto_weights in f_dgsem.LOBATTO_WEIGHTS_BY_ORDER.items():\n",
    "    print(f\"---------------- Assessing order p={p} ----------------\")\n",
    "    # Setting up variables and reusable matrices\n",
    "\n",
    "    # Derivative matrix\n",
    "    D = f_dgsem.D_matrix(p)\n",
    "    # Mass matrix\n",
    "    M = 0.5 * np.diag(lobatto_weights)\n",
    "    # Eigen-values and -vectors\n",
    "    psi = f_dgsem.eigen_L_analytical(D)\n",
    "    R = f_dgsem.R_matrix(D, psi)\n",
    "    #temp arrays for numpy inversion\n",
    "    I = np.eye(p + 1)\n",
    "    Omega = lobatto_weights.reshape((p + 1, 1))\n",
    "    IOmega = np.kron(I, Omega)\n",
    "    OmegaI = np.kron(Omega, I)\n",
    "    VvT = np.transpose(\n",
    "        np.concatenate(\n",
    "            (np.kron(I, np.ones((p + 1, 1))), np.kron(np.ones((p + 1, 1)), I)), axis=1\n",
    "        )\n",
    "    )\n",
    "    #temp arrays for analytical inversion\n",
    "    invR = np.linalg.inv(R)\n",
    "    invMR = f_dgsem.diagonal_matrix_multiply(np.reciprocal(np.diag(M)), R)\n",
    "    invROmega = np.dot(invR, Omega) \n",
    "    R2d = np.kron(R, R)\n",
    "    iR2d = np.kron(invR, invR)\n",
    "    iMR2d = np.kron(invMR, invMR)\n",
    "    invRROmega = np.kron(invR, invROmega)\n",
    "    invROmegaR = np.kron(invROmega, invR)\n",
    "    # res = %timeit -o captures the result and stores it in res\n",
    "    res_p = {}\n",
    "    print(\"* L2 inversion:\")\n",
    "    print(\"  - {:10s}: \".format(\"numpy\"), end=\"\")\n",
    "    res = %timeit -o -r 20 f_dgsem.L2d_inversion_numpy(D, M, lambda_x, lambda_y)\n",
    "    res_p[\"L2d_inv_numpy\"] = res.average\n",
    "    print(\"  - Analytical: \", end=\"\")\n",
    "    res = %timeit -o -r 20 f_dgsem.L2d_inversion_analytical(D, M, lambda_x, lambda_y, psi, iR2d, iMR2d)\n",
    "    res_p[\"L2d_inv_analytical\"] = res.average\n",
    "    print(\"* L2 inversion with graph viscosity:\")\n",
    "    print(\"  - {:10s}: \".format(\"numpy\"), end=\"\")\n",
    "    res = %timeit -o -r 20 f_dgsem.L2d_inversion_viscosity_numpy(D, M, lambda_x, lambda_y, VvT, IOmega, OmegaI)\n",
    "    res_p[\"L2d_inv_vis_numpy\"] = res.average\n",
    "    print(\"  - Analytical: \", end=\"\")\n",
    "    res = %timeit -o -r 20 f_dgsem.L2d_inversion_viscosity_analytical(D, M, lambda_x, lambda_y, psi, R2d, iR2d, VvT, invRROmega, invROmegaR)\n",
    "    res_p[\"L2d_inv_vis_analytical\"] = res.average\n",
    "    \n",
    "    perf_res[p] = res_p\n",
    "    print()"
   ]
  },
  {
   "cell_type": "code",
   "execution_count": 7,
   "id": "cdd848b6-502b-4a4d-b226-ca473d330059",
   "metadata": {},
   "outputs": [],
   "source": [
    "import pandas as pd"
   ]
  },
  {
   "cell_type": "code",
   "execution_count": 8,
   "id": "066d7d15-0a5e-475f-b229-408133085e2d",
   "metadata": {
    "tags": []
   },
   "outputs": [
    {
     "name": "stdout",
     "output_type": "stream",
     "text": [
      "Total results in [µs]:\n"
     ]
    },
    {
     "data": {
      "text/html": [
       "<div>\n",
       "<style scoped>\n",
       "    .dataframe tbody tr th:only-of-type {\n",
       "        vertical-align: middle;\n",
       "    }\n",
       "\n",
       "    .dataframe tbody tr th {\n",
       "        vertical-align: top;\n",
       "    }\n",
       "\n",
       "    .dataframe thead th {\n",
       "        text-align: right;\n",
       "    }\n",
       "</style>\n",
       "<table border=\"1\" class=\"dataframe\">\n",
       "  <thead>\n",
       "    <tr style=\"text-align: right;\">\n",
       "      <th></th>\n",
       "      <th>L2d_inv_numpy</th>\n",
       "      <th>L2d_inv_analytical</th>\n",
       "      <th>L2d_inv_vis_numpy</th>\n",
       "      <th>L2d_inv_vis_analytical</th>\n",
       "      <th>L2d_inv_speed_up</th>\n",
       "      <th>L2d_inv_vis_speed_up</th>\n",
       "    </tr>\n",
       "    <tr>\n",
       "      <th>order</th>\n",
       "      <th></th>\n",
       "      <th></th>\n",
       "      <th></th>\n",
       "      <th></th>\n",
       "      <th></th>\n",
       "      <th></th>\n",
       "    </tr>\n",
       "  </thead>\n",
       "  <tbody>\n",
       "    <tr>\n",
       "      <th>1</th>\n",
       "      <td>95.659334</td>\n",
       "      <td>12.386514</td>\n",
       "      <td>131.328896</td>\n",
       "      <td>60.791988</td>\n",
       "      <td>7.722861</td>\n",
       "      <td>2.160299</td>\n",
       "    </tr>\n",
       "    <tr>\n",
       "      <th>2</th>\n",
       "      <td>264.167668</td>\n",
       "      <td>15.335016</td>\n",
       "      <td>300.961593</td>\n",
       "      <td>129.625122</td>\n",
       "      <td>17.226435</td>\n",
       "      <td>2.321784</td>\n",
       "    </tr>\n",
       "    <tr>\n",
       "      <th>3</th>\n",
       "      <td>292.312729</td>\n",
       "      <td>19.172899</td>\n",
       "      <td>455.541413</td>\n",
       "      <td>187.866820</td>\n",
       "      <td>15.246142</td>\n",
       "      <td>2.424810</td>\n",
       "    </tr>\n",
       "    <tr>\n",
       "      <th>4</th>\n",
       "      <td>343.782374</td>\n",
       "      <td>24.751313</td>\n",
       "      <td>384.935125</td>\n",
       "      <td>225.709744</td>\n",
       "      <td>13.889460</td>\n",
       "      <td>1.705443</td>\n",
       "    </tr>\n",
       "    <tr>\n",
       "      <th>5</th>\n",
       "      <td>402.193946</td>\n",
       "      <td>91.595258</td>\n",
       "      <td>483.875178</td>\n",
       "      <td>388.306520</td>\n",
       "      <td>4.390991</td>\n",
       "      <td>1.246117</td>\n",
       "    </tr>\n",
       "    <tr>\n",
       "      <th>6</th>\n",
       "      <td>549.905685</td>\n",
       "      <td>110.953202</td>\n",
       "      <td>500.315234</td>\n",
       "      <td>408.417563</td>\n",
       "      <td>4.956195</td>\n",
       "      <td>1.225009</td>\n",
       "    </tr>\n",
       "  </tbody>\n",
       "</table>\n",
       "</div>"
      ],
      "text/plain": [
       "       L2d_inv_numpy  L2d_inv_analytical  L2d_inv_vis_numpy  \\\n",
       "order                                                         \n",
       "1          95.659334           12.386514         131.328896   \n",
       "2         264.167668           15.335016         300.961593   \n",
       "3         292.312729           19.172899         455.541413   \n",
       "4         343.782374           24.751313         384.935125   \n",
       "5         402.193946           91.595258         483.875178   \n",
       "6         549.905685          110.953202         500.315234   \n",
       "\n",
       "       L2d_inv_vis_analytical  L2d_inv_speed_up  L2d_inv_vis_speed_up  \n",
       "order                                                                  \n",
       "1                   60.791988          7.722861              2.160299  \n",
       "2                  129.625122         17.226435              2.321784  \n",
       "3                  187.866820         15.246142              2.424810  \n",
       "4                  225.709744         13.889460              1.705443  \n",
       "5                  388.306520          4.390991              1.246117  \n",
       "6                  408.417563          4.956195              1.225009  "
      ]
     },
     "execution_count": 8,
     "metadata": {},
     "output_type": "execute_result"
    }
   ],
   "source": [
    "perf = pd.DataFrame.from_dict(perf_res, orient=\"index\")\n",
    "perf[\"L2d_inv_speed_up\"] = perf[\"L2d_inv_numpy\"] / perf[\"L2d_inv_analytical\"]\n",
    "perf[\"L2d_inv_vis_speed_up\"] = perf[\"L2d_inv_vis_numpy\"] / perf[\"L2d_inv_vis_analytical\"]\n",
    "perf.index.name = \"order\"\n",
    "perf.loc[:, [\"L2d_inv_numpy\", \"L2d_inv_analytical\", \"L2d_inv_vis_numpy\", \"L2d_inv_vis_analytical\"]] *= 1e6  # From sec to µsec\n",
    "print(\"Total results in [µs]:\")\n",
    "perf  # Using default render of jupyter instead of print() for better visualitzation"
   ]
  },
  {
   "cell_type": "code",
   "execution_count": 9,
   "id": "36320261-fa0e-47dd-96bc-51867d2e5a6b",
   "metadata": {
    "tags": []
   },
   "outputs": [
    {
     "data": {
      "image/png": "[encoded data removed]",
      "text/plain": [
       "<Figure size 640x480 with 1 Axes>"
      ]
     },
     "metadata": {},
     "output_type": "display_data"
    }
   ],
   "source": [
    "ax = perf.plot(use_index=True, y=\"L2d_inv_speed_up\", legend=False)\n",
    "_ = ax.set_title(\"2D inversion - speed up analytical vs. numpy\")\n",
    "_ = ax.set_xlabel(\"Order\")"
   ]
  },
  {
   "cell_type": "code",
   "execution_count": 10,
   "id": "9eda64d6-c1c9-43d7-8922-d2e4fdea80e6",
   "metadata": {
    "tags": []
   },
   "outputs": [
    {
     "data": {
      "image/png": "[encoded data removed]",
      "text/plain": [
       "<Figure size 640x480 with 1 Axes>"
      ]
     },
     "metadata": {},
     "output_type": "display_data"
    }
   ],
   "source": [
    "ax = perf.plot(use_index=True, y=\"L2d_inv_vis_speed_up\", legend=False)\n",
    "_ = ax.set_title(\"2D inversion w/ graph viscosity - speed up analytical vs. numpy\")\n",
    "_ = ax.set_xlabel(\"Order\")"
   ]
  }
 ],
 "metadata": {
  "kernelspec": {
   "display_name": "Python 3 (ipykernel)",
   "language": "python",
   "name": "python3"
  },
  "language_info": {
   "codemirror_mode": {
    "name": "ipython",
    "version": 3
   },
   "file_extension": ".py",
   "mimetype": "text/x-python",
   "name": "python",
   "nbconvert_exporter": "python",
   "pygments_lexer": "ipython3",
   "version": "3.10.8"
  }
 },
 "nbformat": 4,
 "nbformat_minor": 5
}
