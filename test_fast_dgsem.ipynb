{
 "cells": [
  {
   "cell_type": "markdown",
   "id": "ed7d25ef-58e7-4898-a23d-7466e8a4d46d",
   "metadata": {},
   "source": [
    "# Fast DGSEM block inversion\n",
    "\n",
    "In this notebook, we test the methods analytical formulations for DGSEM-matrix inversion against classical `numpy` tools. We also time them to see which is the most efficient one.\n",
    "\n",
    "To test for exactness, we relying on a classical Frobenius norm of the differnce between the proposed analytical formulae and the reference one.\n",
    "\n",
    "The performances will be measured with `jupyter` `%%timeit` magic (see the header of the related cells). To compute fair statistics, we use 100 runs (see option `-r 100`) and the default values for loops (10'000): hence, running the notebook might take some time."
   ]
  },
  {
   "cell_type": "code",
   "execution_count": 1,
   "id": "07b6b385-a346-4177-801c-8a85d686cb1a",
   "metadata": {
    "tags": []
   },
   "outputs": [],
   "source": [
    "import numpy as np\n",
    "\n",
    "import fast_DGSEM_block_inversion as f_dgsem"
   ]
  },
  {
   "cell_type": "code",
   "execution_count": 2,
   "id": "36f1ff3e-96be-4dff-a2ed-62ce97be94c2",
   "metadata": {
    "tags": []
   },
   "outputs": [],
   "source": [
    "# Polynomial order\n",
    "p = 2  # Accepted: 1:5 included\n",
    "\n",
    "# Celerity*time step over spatial grid size\n",
    "lambda_x, lambda_y = 1.0, 1.0"
   ]
  },
  {
   "cell_type": "markdown",
   "id": "a208297f-46d6-4def-baf3-00afff61106a",
   "metadata": {},
   "source": [
    "## Exactness"
   ]
  },
  {
   "cell_type": "code",
   "execution_count": 3,
   "id": "8cb42f4a-1331-446b-b3a5-e50b38b1f216",
   "metadata": {
    "tags": []
   },
   "outputs": [
    {
     "name": "stdout",
     "output_type": "stream",
     "text": [
      "Verification of L eigenvalues (difference inf. norm between the two methods): 2.4874942663908416e-15\n",
      "\n"
     ]
    }
   ],
   "source": [
    "_ = f_dgsem.compare_eigenvalues_computation(p)"
   ]
  },
  {
   "cell_type": "code",
   "execution_count": 4,
   "id": "acc1d7c5-d896-47a7-b8ba-cd8fb96e6f4d",
   "metadata": {
    "tags": []
   },
   "outputs": [
    {
     "name": "stdout",
     "output_type": "stream",
     "text": [
      "Verification of diag. block inv. (difference inf. norm between the two methods): 8.17216081584016e-15\n",
      "\n"
     ]
    }
   ],
   "source": [
    "_ = f_dgsem.compare_2D_inversion(p, lambda_x, lambda_y)"
   ]
  },
  {
   "cell_type": "code",
   "execution_count": 5,
   "id": "ecf555ac-278d-4eaa-b22f-58e3d2557afb",
   "metadata": {
    "tags": []
   },
   "outputs": [
    {
     "name": "stdout",
     "output_type": "stream",
     "text": [
      "Verification of diag. block inv. with graph visc. (difference inf. norm between the two methods): 2.891387197060117e-16\n"
     ]
    }
   ],
   "source": [
    "_ = f_dgsem.compare_2D_inversion_viscosity(p, lambda_x, lambda_y)"
   ]
  },
  {
   "cell_type": "markdown",
   "id": "476bcb98-ae89-4259-bd4d-b51af0344aef",
   "metadata": {},
   "source": [
    "## Performances\n",
    "\n",
    "Setting up needed variables"
   ]
  },
  {
   "cell_type": "code",
   "execution_count": 6,
   "id": "b9a2e277-288b-4152-aa7b-1da28f25acd9",
   "metadata": {
    "tags": []
   },
   "outputs": [],
   "source": [
    "lobatto_weights = f_dgsem.LOBATTO_WEIGHTS_BY_ORDER[p]\n",
    "\n",
    "# Derivative matrix\n",
    "D = f_dgsem.D_matrix(p)\n",
    "# Mass matrix\n",
    "M = 0.5 * np.diag(lobatto_weights)\n",
    "# Eigen-values and -vectors\n",
    "psi = f_dgsem.eigen_L_analytical(D)\n",
    "R = f_dgsem.R_matrix(D, psi)\n",
    "#temp arrays for numpy inversion\n",
    "I = np.eye(p + 1)\n",
    "Omega = lobatto_weights.reshape((p + 1, 1))\n",
    "IOmega = np.kron(I, Omega)\n",
    "OmegaI = np.kron(Omega, I)\n",
    "VvT = np.transpose(\n",
    "    np.concatenate(\n",
    "        (np.kron(I, np.ones((p + 1, 1))), np.kron(np.ones((p + 1, 1)), I)), axis=1\n",
    "    )\n",
    ")\n",
    "#temp arrays for analytical inversion\n",
    "invR = np.linalg.inv(R)\n",
    "invMR = f_dgsem.diagonal_matrix_multiply(np.reciprocal(np.diag(M)), R)\n",
    "invROmega = np.dot(invR, Omega) \n",
    "R2d = np.kron(R, R)\n",
    "iR2d = np.kron(invR, invR)\n",
    "iMR2d = np.kron(invMR, invMR)\n",
    "invRROmega = np.kron(invR, invROmega)\n",
    "invROmegaR = np.kron(invROmega, invR)"
   ]
  },
  {
   "cell_type": "markdown",
   "id": "e14f06d6-3fdd-4ffd-88ce-4e6b5a726043",
   "metadata": {},
   "source": [
    "### Eigenvalues\n",
    "\n",
    "Reference `numpy` performances:"
   ]
  },
  {
   "cell_type": "code",
   "execution_count": 7,
   "id": "3044d71d-07c3-460e-a314-b0317537de8f",
   "metadata": {
    "tags": []
   },
   "outputs": [
    {
     "name": "stdout",
     "output_type": "stream",
     "text": [
      "31.9 µs ± 1.27 µs per loop (mean ± std. dev. of 100 runs, 10,000 loops each)\n"
     ]
    }
   ],
   "source": [
    "%%timeit -r 100\n",
    "f_dgsem.eigen_L_numpy(D)"
   ]
  },
  {
   "cell_type": "markdown",
   "id": "f0b8724c-4cd5-42dc-bcaf-7ad99a3b56e3",
   "metadata": {},
   "source": [
    "Proposed formula performances:"
   ]
  },
  {
   "cell_type": "code",
   "execution_count": 8,
   "id": "f7f865a0-ec69-4373-b14a-6cb00ea4f1aa",
   "metadata": {
    "tags": []
   },
   "outputs": [
    {
     "name": "stdout",
     "output_type": "stream",
     "text": [
      "70.7 µs ± 2.03 µs per loop (mean ± std. dev. of 100 runs, 10,000 loops each)\n"
     ]
    }
   ],
   "source": [
    "%%timeit -r 100\n",
    "f_dgsem.eigen_L_analytical(D)"
   ]
  },
  {
   "cell_type": "markdown",
   "id": "a018db34-8b05-4dda-8dd2-3c724cad5a5e",
   "metadata": {},
   "source": [
    "### 2D matrix inversion\n",
    "\n",
    "Reference `numpy` performances:"
   ]
  },
  {
   "cell_type": "code",
   "execution_count": 8,
   "id": "417bb140-d139-4274-a8b0-4aeabd488c13",
   "metadata": {
    "tags": []
   },
   "outputs": [
    {
     "name": "stdout",
     "output_type": "stream",
     "text": [
      "93.6 µs ± 1.65 µs per loop (mean ± std. dev. of 100 runs, 10,000 loops each)\n"
     ]
    }
   ],
   "source": [
    "%%timeit -r 100\n",
    "f_dgsem.L2d_inversion_numpy(D, M, lambda_x, lambda_y)"
   ]
  },
  {
   "cell_type": "markdown",
   "id": "509c6f1a-43b5-4707-b72d-ef92205cb351",
   "metadata": {},
   "source": [
    "Proposed formula performances:"
   ]
  },
  {
   "cell_type": "code",
   "execution_count": 7,
   "id": "86eef432-f044-42f7-a814-9e42a6a53e91",
   "metadata": {
    "tags": []
   },
   "outputs": [
    {
     "name": "stdout",
     "output_type": "stream",
     "text": [
      "243 µs ± 6.71 µs per loop (mean ± std. dev. of 100 runs, 1,000 loops each)\n"
     ]
    }
   ],
   "source": [
    "%%timeit -r 100\n",
    "f_dgsem.L2d_inversion_analytical(D, M, lambda_x, lambda_y)"
   ]
  },
  {
   "cell_type": "markdown",
   "id": "d7d0a7d8-2960-43b2-946c-fff22a6ee3cd",
   "metadata": {},
   "source": [
    "Retry by reusing matrices that can be stashed"
   ]
  },
  {
   "cell_type": "code",
   "execution_count": 7,
   "id": "fe2d622b-86c4-4f73-9830-46d4322e1418",
   "metadata": {
    "tags": []
   },
   "outputs": [
    {
     "name": "stdout",
     "output_type": "stream",
     "text": [
      "14.1 µs ± 727 ns per loop (mean ± std. dev. of 100 runs, 100,000 loops each)\n"
     ]
    }
   ],
   "source": [
    "%%timeit -r 100\n",
    "f_dgsem.L2d_inversion_analytical(D, M, lambda_x, lambda_y, psi, iR2d, iMR2d)"
   ]
  },
  {
   "cell_type": "markdown",
   "id": "afc7dc7e-102e-400a-a635-f24a301f06de",
   "metadata": {},
   "source": [
    "### 2D matrix with graph viscosity inversion\n",
    "\n",
    "Reference `numpy` performances:"
   ]
  },
  {
   "cell_type": "code",
   "execution_count": 8,
   "id": "beb54683-ea0c-467d-9abc-16dc3940d982",
   "metadata": {
    "tags": []
   },
   "outputs": [
    {
     "name": "stdout",
     "output_type": "stream",
     "text": [
      "124 µs ± 3.33 µs per loop (mean ± std. dev. of 100 runs, 10,000 loops each)\n"
     ]
    }
   ],
   "source": [
    "%%timeit -r 100\n",
    "f_dgsem.L2d_inversion_viscosity_numpy(D, M, lambda_x, lambda_y, VvT, IOmega, OmegaI)"
   ]
  },
  {
   "cell_type": "markdown",
   "id": "92e0dd26-a5ab-43e3-b072-17318ffc298d",
   "metadata": {},
   "source": [
    "Proposed formula performances:"
   ]
  },
  {
   "cell_type": "code",
   "execution_count": 7,
   "id": "5de545d2-e295-40da-b3aa-548adcb03093",
   "metadata": {
    "tags": []
   },
   "outputs": [
    {
     "name": "stdout",
     "output_type": "stream",
     "text": [
      "396 µs ± 14.6 µs per loop (mean ± std. dev. of 100 runs, 1,000 loops each)\n"
     ]
    }
   ],
   "source": [
    "%%timeit -r 100\n",
    "f_dgsem.L2d_inversion_viscosity_analytical(D, M, lambda_x, lambda_y)"
   ]
  },
  {
   "cell_type": "markdown",
   "id": "839d9ac9-d34f-4807-95ae-c15ecdfd4c73",
   "metadata": {},
   "source": [
    "Retry by reusing matrices that can be stashed"
   ]
  },
  {
   "cell_type": "code",
   "execution_count": 7,
   "id": "25a1da01-4c7b-41c8-90e3-bd51bba27f3b",
   "metadata": {
    "tags": []
   },
   "outputs": [
    {
     "name": "stdout",
     "output_type": "stream",
     "text": [
      "64 µs ± 3.26 µs per loop (mean ± std. dev. of 100 runs, 10,000 loops each)\n"
     ]
    }
   ],
   "source": [
    "%%timeit -r 100\n",
    "f_dgsem.L2d_inversion_viscosity_analytical(D, M, lambda_x, lambda_y, psi, R2d, iR2d, VvT, \n",
    "                                           invRROmega, invROmegaR)"
   ]
  },
  {
   "cell_type": "code",
   "execution_count": null,
   "id": "83867bdf",
   "metadata": {},
   "outputs": [],
   "source": []
  }
 ],
 "metadata": {
  "kernelspec": {
   "display_name": "Python 3 (ipykernel)",
   "language": "python",
   "name": "python3"
  },
  "language_info": {
   "codemirror_mode": {
    "name": "ipython",
    "version": 3
   },
   "file_extension": ".py",
   "mimetype": "text/x-python",
   "name": "python",
   "nbconvert_exporter": "python",
   "pygments_lexer": "ipython3",
   "version": "3.8.14"
  }
 },
 "nbformat": 4,
 "nbformat_minor": 5
}
