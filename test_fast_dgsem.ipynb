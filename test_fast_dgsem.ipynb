{
 "cells": [
  {
   "cell_type": "markdown",
   "id": "ed7d25ef-58e7-4898-a23d-7466e8a4d46d",
   "metadata": {},
   "source": [
    "# Fast DGSEM block inversion\n",
    "\n",
    "In this notebook, we test the methods analytical formulations for DGSEM-matrix inversion against classical `numpy` tools. We also time them to see which is the most efficient one.\n",
    "\n",
    "To test for exactness, we relying on a classical Frobenius norm of the differnce between the proposed analytical formulae and the reference one.\n",
    "\n",
    "The performances will be measured with `jupyter`/`IPython` `[%]%timeit` magic (see the header of the related cells). To compute fair statistics, we use 20 runs (see option `-r 20`): hence, running the notebook might take some time."
   ]
  },
  {
   "cell_type": "code",
   "execution_count": 1,
   "id": "07b6b385-a346-4177-801c-8a85d686cb1a",
   "metadata": {
    "tags": []
   },
   "outputs": [],
   "source": [
    "import numpy as np\n",
    "\n",
    "import fast_DGSEM_block_inversion as f_dgsem"
   ]
  },
  {
   "cell_type": "code",
   "execution_count": 2,
   "id": "36f1ff3e-96be-4dff-a2ed-62ce97be94c2",
   "metadata": {
    "tags": []
   },
   "outputs": [],
   "source": [
    "# Polynomial order\n",
    "p = 2  # Accepted: 1:5 included\n",
    "\n",
    "# Celerity*time step over spatial grid size\n",
    "lambda_x, lambda_y = 1.0, 1.0"
   ]
  },
  {
   "cell_type": "markdown",
   "id": "a208297f-46d6-4def-baf3-00afff61106a",
   "metadata": {},
   "source": [
    "## Exactness"
   ]
  },
  {
   "cell_type": "code",
   "execution_count": 3,
   "id": "8cb42f4a-1331-446b-b3a5-e50b38b1f216",
   "metadata": {
    "tags": []
   },
   "outputs": [
    {
     "name": "stdout",
     "output_type": "stream",
     "text": [
      "Verification of L eigenvalues (difference inf. norm between the two methods): 2.7599706730399138e-15\n",
      "\n"
     ]
    }
   ],
   "source": [
    "_ = f_dgsem.compare_eigenvalues_computation(p)"
   ]
  },
  {
   "cell_type": "code",
   "execution_count": 4,
   "id": "acc1d7c5-d896-47a7-b8ba-cd8fb96e6f4d",
   "metadata": {
    "tags": []
   },
   "outputs": [
    {
     "name": "stdout",
     "output_type": "stream",
     "text": [
      "Verification of diag. block inv. (difference inf. norm between the two methods): 8.060194330240908e-15\n",
      "\n"
     ]
    }
   ],
   "source": [
    "_ = f_dgsem.compare_2D_inversion(p, lambda_x, lambda_y)"
   ]
  },
  {
   "cell_type": "code",
   "execution_count": 5,
   "id": "ecf555ac-278d-4eaa-b22f-58e3d2557afb",
   "metadata": {
    "tags": []
   },
   "outputs": [
    {
     "name": "stdout",
     "output_type": "stream",
     "text": [
      "Verification of diag. block inv. with graph visc. (difference inf. norm between the two methods): 2.8937189931735686e-16\n"
     ]
    }
   ],
   "source": [
    "_ = f_dgsem.compare_2D_inversion_viscosity(p, lambda_x, lambda_y)"
   ]
  },
  {
   "cell_type": "markdown",
   "id": "509c6f1a-43b5-4707-b72d-ef92205cb351",
   "metadata": {},
   "source": [
    "## Performances"
   ]
  },
  {
   "cell_type": "code",
   "execution_count": 6,
   "id": "a1efb0fc-5f13-487d-a22e-eb0cec445ce4",
   "metadata": {},
   "outputs": [
    {
     "name": "stdout",
     "output_type": "stream",
     "text": [
      "---------------- Testing order p=1 ----------------\n",
      "* L2 inversion:\n",
      "  - numpy     : 94.4 µs ± 3.92 µs per loop (mean ± std. dev. of 20 runs, 10,000 loops each)\n",
      "  - Analytical: 12.9 µs ± 107 ns per loop (mean ± std. dev. of 20 runs, 100,000 loops each)\n",
      "* L2 inversion with graph viscosity:\n",
      "  - numpy     : 134 µs ± 843 ns per loop (mean ± std. dev. of 20 runs, 10,000 loops each)\n",
      "  - Analytical: 63.4 µs ± 1.28 µs per loop (mean ± std. dev. of 20 runs, 10,000 loops each)\n",
      "\n",
      "---------------- Testing order p=2 ----------------\n",
      "* L2 inversion:\n",
      "  - numpy     : 253 µs ± 54.5 µs per loop (mean ± std. dev. of 20 runs, 1,000 loops each)\n",
      "  - Analytical: 16.2 µs ± 36.5 ns per loop (mean ± std. dev. of 20 runs, 100,000 loops each)\n",
      "* L2 inversion with graph viscosity:\n",
      "  - numpy     : 320 µs ± 57.5 µs per loop (mean ± std. dev. of 20 runs, 1,000 loops each)\n",
      "  - Analytical: 75.1 µs ± 2.44 µs per loop (mean ± std. dev. of 20 runs, 10,000 loops each)\n",
      "\n",
      "---------------- Testing order p=3 ----------------\n",
      "* L2 inversion:\n",
      "  - numpy     : 281 µs ± 47.6 µs per loop (mean ± std. dev. of 20 runs, 1,000 loops each)\n",
      "  - Analytical: 20.2 µs ± 341 ns per loop (mean ± std. dev. of 20 runs, 10,000 loops each)\n",
      "* L2 inversion with graph viscosity:\n",
      "  - numpy     : 368 µs ± 65 µs per loop (mean ± std. dev. of 20 runs, 1,000 loops each)\n",
      "  - Analytical: 315 µs ± 104 µs per loop (mean ± std. dev. of 20 runs, 10,000 loops each)\n",
      "\n",
      "---------------- Testing order p=4 ----------------\n",
      "* L2 inversion:\n",
      "  - numpy     : 471 µs ± 58.6 µs per loop (mean ± std. dev. of 20 runs, 1,000 loops each)\n",
      "  - Analytical: 27.6 µs ± 754 ns per loop (mean ± std. dev. of 20 runs, 10,000 loops each)\n",
      "* L2 inversion with graph viscosity:\n",
      "  - numpy     : The slowest run took 7.62 times longer than the fastest. This could mean that an intermediate result is being cached.\n",
      "1.28 ms ± 612 µs per loop (mean ± std. dev. of 20 runs, 1,000 loops each)\n",
      "  - Analytical: The slowest run took 4.89 times longer than the fastest. This could mean that an intermediate result is being cached.\n",
      "450 µs ± 225 µs per loop (mean ± std. dev. of 20 runs, 1,000 loops each)\n",
      "\n",
      "---------------- Testing order p=5 ----------------\n",
      "* L2 inversion:\n",
      "  - numpy     : The slowest run took 5.05 times longer than the fastest. This could mean that an intermediate result is being cached.\n",
      "618 µs ± 374 µs per loop (mean ± std. dev. of 20 runs, 1,000 loops each)\n",
      "  - Analytical: 127 µs ± 55.8 µs per loop (mean ± std. dev. of 20 runs, 10,000 loops each)\n",
      "* L2 inversion with graph viscosity:\n",
      "  - numpy     : 545 µs ± 120 µs per loop (mean ± std. dev. of 20 runs, 1,000 loops each)\n",
      "  - Analytical: 292 µs ± 43.2 µs per loop (mean ± std. dev. of 20 runs, 1,000 loops each)\n",
      "\n",
      "---------------- Testing order p=6 ----------------\n",
      "* L2 inversion:\n",
      "  - numpy     : The slowest run took 5.56 times longer than the fastest. This could mean that an intermediate result is being cached.\n",
      "559 µs ± 360 µs per loop (mean ± std. dev. of 20 runs, 1,000 loops each)\n",
      "  - Analytical: 116 µs ± 14.7 µs per loop (mean ± std. dev. of 20 runs, 10,000 loops each)\n",
      "* L2 inversion with graph viscosity:\n",
      "  - numpy     : 550 µs ± 98.5 µs per loop (mean ± std. dev. of 20 runs, 1,000 loops each)\n",
      "  - Analytical: 368 µs ± 49.6 µs per loop (mean ± std. dev. of 20 runs, 1,000 loops each)\n",
      "\n"
     ]
    }
   ],
   "source": [
    "perf_res = {}  # Store results\n",
    "for p, lobatto_weights in f_dgsem.LOBATTO_WEIGHTS_BY_ORDER.items():\n",
    "    print(f\"---------------- Testing order p={p} ----------------\")\n",
    "    # Setting up variables and reusable matrices\n",
    "\n",
    "    # Derivative matrix\n",
    "    D = f_dgsem.D_matrix(p)\n",
    "    # Mass matrix\n",
    "    M = 0.5 * np.diag(lobatto_weights)\n",
    "    # Eigen-values and -vectors\n",
    "    psi = f_dgsem.eigen_L_analytical(D)\n",
    "    R = f_dgsem.R_matrix(D, psi)\n",
    "    #temp arrays for numpy inversion\n",
    "    I = np.eye(p + 1)\n",
    "    Omega = lobatto_weights.reshape((p + 1, 1))\n",
    "    IOmega = np.kron(I, Omega)\n",
    "    OmegaI = np.kron(Omega, I)\n",
    "    VvT = np.transpose(\n",
    "        np.concatenate(\n",
    "            (np.kron(I, np.ones((p + 1, 1))), np.kron(np.ones((p + 1, 1)), I)), axis=1\n",
    "        )\n",
    "    )\n",
    "    #temp arrays for analytical inversion\n",
    "    invR = np.linalg.inv(R)\n",
    "    invMR = f_dgsem.diagonal_matrix_multiply(np.reciprocal(np.diag(M)), R)\n",
    "    invROmega = np.dot(invR, Omega) \n",
    "    R2d = np.kron(R, R)\n",
    "    iR2d = np.kron(invR, invR)\n",
    "    iMR2d = np.kron(invMR, invMR)\n",
    "    invRROmega = np.kron(invR, invROmega)\n",
    "    invROmegaR = np.kron(invROmega, invR)\n",
    "    # res = %timeit -o captures the result and stores it in res\n",
    "    res_p = {}\n",
    "    print(\"* L2 inversion:\")\n",
    "    print(\"  - {:10s}: \".format(\"numpy\"), end=\"\")\n",
    "    res = %timeit -o -r 20 f_dgsem.L2d_inversion_numpy(D, M, lambda_x, lambda_y)\n",
    "    res_p[\"L2d_inv_numpy\"] = res.average\n",
    "    print(\"  - Analytical: \", end=\"\")\n",
    "    res = %timeit -o -r 20 f_dgsem.L2d_inversion_analytical(D, M, lambda_x, lambda_y, psi, iR2d, iMR2d)\n",
    "    res_p[\"L2d_inv_analytical\"] = res.average\n",
    "    print(\"* L2 inversion with graph viscosity:\")\n",
    "    print(\"  - {:10s}: \".format(\"numpy\"), end=\"\")\n",
    "    res = %timeit -o -r 20 f_dgsem.L2d_inversion_viscosity_numpy(D, M, lambda_x, lambda_y, VvT, IOmega, OmegaI)\n",
    "    res_p[\"L2d_inv_vis_numpy\"] = res.average\n",
    "    print(\"  - Analytical: \", end=\"\")\n",
    "    res = %timeit -o -r 20 f_dgsem.L2d_inversion_viscosity_analytical(D, M, lambda_x, lambda_y, psi, R2d, iR2d, VvT, invRROmega, invROmegaR)\n",
    "    res_p[\"L2d_inv_vis_analytical\"] = res.average\n",
    "    \n",
    "    perf_res[p] = res_p\n",
    "    print()"
   ]
  },
  {
   "cell_type": "code",
   "execution_count": 7,
   "id": "cdd848b6-502b-4a4d-b226-ca473d330059",
   "metadata": {},
   "outputs": [],
   "source": [
    "import pandas as pd"
   ]
  },
  {
   "cell_type": "code",
   "execution_count": 8,
   "id": "066d7d15-0a5e-475f-b229-408133085e2d",
   "metadata": {
    "tags": []
   },
   "outputs": [
    {
     "name": "stdout",
     "output_type": "stream",
     "text": [
      "Total results in [µs]:\n"
     ]
    },
    {
     "data": {
      "text/html": [
       "<div>\n",
       "<style scoped>\n",
       "    .dataframe tbody tr th:only-of-type {\n",
       "        vertical-align: middle;\n",
       "    }\n",
       "\n",
       "    .dataframe tbody tr th {\n",
       "        vertical-align: top;\n",
       "    }\n",
       "\n",
       "    .dataframe thead th {\n",
       "        text-align: right;\n",
       "    }\n",
       "</style>\n",
       "<table border=\"1\" class=\"dataframe\">\n",
       "  <thead>\n",
       "    <tr style=\"text-align: right;\">\n",
       "      <th></th>\n",
       "      <th>L2d_inv_numpy</th>\n",
       "      <th>L2d_inv_analytical</th>\n",
       "      <th>L2d_inv_vis_numpy</th>\n",
       "      <th>L2d_inv_vis_analytical</th>\n",
       "      <th>L2d_inv_speed_up</th>\n",
       "      <th>L2d_inv_vis_speed_up</th>\n",
       "    </tr>\n",
       "    <tr>\n",
       "      <th>order</th>\n",
       "      <th></th>\n",
       "      <th></th>\n",
       "      <th></th>\n",
       "      <th></th>\n",
       "      <th></th>\n",
       "      <th></th>\n",
       "    </tr>\n",
       "  </thead>\n",
       "  <tbody>\n",
       "    <tr>\n",
       "      <th>1</th>\n",
       "      <td>94.420280</td>\n",
       "      <td>12.905202</td>\n",
       "      <td>134.000262</td>\n",
       "      <td>63.430308</td>\n",
       "      <td>7.316451</td>\n",
       "      <td>2.112559</td>\n",
       "    </tr>\n",
       "    <tr>\n",
       "      <th>2</th>\n",
       "      <td>253.019352</td>\n",
       "      <td>16.166919</td>\n",
       "      <td>320.128891</td>\n",
       "      <td>75.123743</td>\n",
       "      <td>15.650437</td>\n",
       "      <td>4.261354</td>\n",
       "    </tr>\n",
       "    <tr>\n",
       "      <th>3</th>\n",
       "      <td>281.116804</td>\n",
       "      <td>20.194372</td>\n",
       "      <td>367.637385</td>\n",
       "      <td>314.584356</td>\n",
       "      <td>13.920552</td>\n",
       "      <td>1.168645</td>\n",
       "    </tr>\n",
       "    <tr>\n",
       "      <th>4</th>\n",
       "      <td>470.674112</td>\n",
       "      <td>27.559493</td>\n",
       "      <td>1280.515243</td>\n",
       "      <td>449.832449</td>\n",
       "      <td>17.078475</td>\n",
       "      <td>2.846649</td>\n",
       "    </tr>\n",
       "    <tr>\n",
       "      <th>5</th>\n",
       "      <td>617.803977</td>\n",
       "      <td>126.578783</td>\n",
       "      <td>545.461478</td>\n",
       "      <td>292.242346</td>\n",
       "      <td>4.880786</td>\n",
       "      <td>1.866470</td>\n",
       "    </tr>\n",
       "    <tr>\n",
       "      <th>6</th>\n",
       "      <td>558.737024</td>\n",
       "      <td>115.750418</td>\n",
       "      <td>549.748519</td>\n",
       "      <td>367.977211</td>\n",
       "      <td>4.827084</td>\n",
       "      <td>1.493974</td>\n",
       "    </tr>\n",
       "  </tbody>\n",
       "</table>\n",
       "</div>"
      ],
      "text/plain": [
       "       L2d_inv_numpy  L2d_inv_analytical  L2d_inv_vis_numpy  \\\n",
       "order                                                         \n",
       "1          94.420280           12.905202         134.000262   \n",
       "2         253.019352           16.166919         320.128891   \n",
       "3         281.116804           20.194372         367.637385   \n",
       "4         470.674112           27.559493        1280.515243   \n",
       "5         617.803977          126.578783         545.461478   \n",
       "6         558.737024          115.750418         549.748519   \n",
       "\n",
       "       L2d_inv_vis_analytical  L2d_inv_speed_up  L2d_inv_vis_speed_up  \n",
       "order                                                                  \n",
       "1                   63.430308          7.316451              2.112559  \n",
       "2                   75.123743         15.650437              4.261354  \n",
       "3                  314.584356         13.920552              1.168645  \n",
       "4                  449.832449         17.078475              2.846649  \n",
       "5                  292.242346          4.880786              1.866470  \n",
       "6                  367.977211          4.827084              1.493974  "
      ]
     },
     "execution_count": 8,
     "metadata": {},
     "output_type": "execute_result"
    }
   ],
   "source": [
    "perf = pd.DataFrame.from_dict(perf_res, orient=\"index\")\n",
    "perf[\"L2d_inv_speed_up\"] = perf[\"L2d_inv_numpy\"] / perf[\"L2d_inv_analytical\"]\n",
    "perf[\"L2d_inv_vis_speed_up\"] = perf[\"L2d_inv_vis_numpy\"] / perf[\"L2d_inv_vis_analytical\"]\n",
    "perf.index.name = \"order\"\n",
    "perf.loc[:, [\"L2d_inv_numpy\", \"L2d_inv_analytical\", \"L2d_inv_vis_numpy\", \"L2d_inv_vis_analytical\"]] *= 1e6  # From sec to µsec\n",
    "print(\"Total results in [µs]:\")\n",
    "perf  # Using default render of jupyter instead of print() for better visualitzation"
   ]
  },
  {
   "cell_type": "code",
   "execution_count": 9,
   "id": "36320261-fa0e-47dd-96bc-51867d2e5a6b",
   "metadata": {
    "tags": []
   },
   "outputs": [
    {
     "data": {
      "image/png": "[encoded data removed]",
      "text/plain": [
       "<Figure size 640x480 with 1 Axes>"
      ]
     },
     "metadata": {},
     "output_type": "display_data"
    }
   ],
   "source": [
    "ax = perf.plot(use_index=True, y=\"L2d_inv_speed_up\", legend=False)\n",
    "_ = ax.set_title(\"2D inversion w/ graph viscosity - speed up analytical vs. numpy\")\n",
    "_ = ax.set_xlabel(\"Order\")"
   ]
  },
  {
   "cell_type": "code",
   "execution_count": 10,
   "id": "9eda64d6-c1c9-43d7-8922-d2e4fdea80e6",
   "metadata": {
    "tags": []
   },
   "outputs": [
    {
     "data": {
      "image/png": "[encoded data removed]",
      "text/plain": [
       "<Figure size 640x480 with 1 Axes>"
      ]
     },
     "metadata": {},
     "output_type": "display_data"
    }
   ],
   "source": [
    "ax = perf.plot(use_index=True, y=\"L2d_inv_vis_speed_up\", legend=False)\n",
    "_ = ax.set_title(\"2D inversion w/ graph viscosity - speed up analytical vs. numpy\")\n",
    "_ = ax.set_xlabel(\"Order\")"
   ]
  }
 ],
 "metadata": {
  "kernelspec": {
   "display_name": "Python 3 (ipykernel)",
   "language": "python",
   "name": "python3"
  },
  "language_info": {
   "codemirror_mode": {
    "name": "ipython",
    "version": 3
   },
   "file_extension": ".py",
   "mimetype": "text/x-python",
   "name": "python",
   "nbconvert_exporter": "python",
   "pygments_lexer": "ipython3",
   "version": "3.10.8"
  }
 },
 "nbformat": 4,
 "nbformat_minor": 5
}
